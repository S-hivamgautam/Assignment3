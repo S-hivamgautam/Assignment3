{
  "nbformat": 4,
  "nbformat_minor": 0,
  "metadata": {
    "colab": {
      "provenance": [],
      "authorship_tag": "ABX9TyPVjB+ntfDCKoajnXQ48V0x",
      "include_colab_link": true
    },
    "kernelspec": {
      "name": "python3",
      "display_name": "Python 3"
    },
    "language_info": {
      "name": "python"
    }
  },
  "cells": [
    {
      "cell_type": "markdown",
      "metadata": {
        "id": "view-in-github",
        "colab_type": "text"
      },
      "source": [
        "<a href=\"https://colab.research.google.com/github/S-hivamgautam/Assignment3/blob/main/Untitled0.ipynb\" target=\"_parent\"><img src=\"https://colab.research.google.com/assets/colab-badge.svg\" alt=\"Open In Colab\"/></a>"
      ]
    },
    {
      "cell_type": "code",
      "execution_count": null,
      "metadata": {
        "colab": {
          "base_uri": "https://localhost:8080/"
        },
        "id": "7OZjGnNsfhyJ",
        "outputId": "69d1ca13-560a-4330-b29f-886ca11b2f74"
      },
      "outputs": [
        {
          "output_type": "stream",
          "name": "stdout",
          "text": [
            "   tid refund marital status taxable income cheat\n",
            "0    1    yes         Single           125k    no\n",
            "1    2     no        Married           100k    no\n",
            "2    3     no         Single            70k    no\n",
            "3    4    yes        Married           120k    no\n",
            "4    5     no       divorced            95k   yes\n",
            "5    6     no        Married            60k    no\n",
            "6    7    yes       divorced           220k    no\n",
            "7    8     no         Single            85k   yes\n",
            "8    9     no        Married            75k    no\n",
            "9   10     no         Single            90k   yes\n"
          ]
        }
      ],
      "source": [
        " #Q.1 Create a dataset as follow in the table.\n",
        "\n",
        " import pandas as pd\n",
        "\n",
        "# Sample data\n",
        "data = {    'tid': [1, 2, 3, 4, 5 , 6 , 7 , 8 ,9, 10],\n",
        "    'refund': ['yes' , 'no' , 'no','yes' , 'no' , 'no','yes' , 'no' , 'no','no'],\n",
        "    'marital status': ['Single', 'Married', 'Single', 'Married', 'divorced', 'Married','divorced','Single','Married','Single',],\n",
        "    'taxable income': ['125k' , '100k' ,'70k' , '120k', '95k', '60k', '220k','85k', '75k', '90k' ],\n",
        "    'cheat': ['no','no','no','no','yes','no','no','yes','no','yes']\n",
        "}\n",
        "\n",
        "# Create DataFrame\n",
        "df = pd.DataFrame(data)\n",
        "\n",
        "# Display the DataFrame\n",
        "print(df)\n"
      ]
    },
    {
      "cell_type": "code",
      "source": [
        "#Q.2 From the above table that you have created, locate row 0, 4, 7 and 8 using DataFrame.\n",
        "selected_rows = df.iloc[[0, 4, 7, 8]]\n",
        "\n",
        "# Display the selected rows\n",
        "print(selected_rows)\n"
      ],
      "metadata": {
        "colab": {
          "base_uri": "https://localhost:8080/"
        },
        "id": "sSPLTwH2jMfQ",
        "outputId": "716f0db0-fafd-4ddc-8287-f325f28eeeba"
      },
      "execution_count": null,
      "outputs": [
        {
          "output_type": "stream",
          "name": "stdout",
          "text": [
            "   tid refund marital status taxable income cheat\n",
            "0    1    yes         Single           125k    no\n",
            "4    5     no       divorced            95k   yes\n",
            "7    8     no         Single            85k   yes\n",
            "8    9     no        Married            75k    no\n"
          ]
        }
      ]
    },
    {
      "cell_type": "code",
      "source": [
        "#Q.3 Navigate the DataFrame and do the following task for the table created in question 1:\n",
        "#1. Select row from index 3 to 7.\n",
        "rows_3_to_7 = df.iloc[3:8]\n",
        "print(rows_3_to_7)\n",
        "\n",
        "\n"
      ],
      "metadata": {
        "colab": {
          "base_uri": "https://localhost:8080/"
        },
        "id": "n4j85vFcjiqz",
        "outputId": "cf6ef9eb-aa2d-43be-840c-73c9cc4d8afd"
      },
      "execution_count": null,
      "outputs": [
        {
          "output_type": "stream",
          "name": "stdout",
          "text": [
            "   tid refund marital status taxable income cheat\n",
            "3    4    yes        Married           120k    no\n",
            "4    5     no       divorced            95k   yes\n",
            "5    6     no        Married            60k    no\n",
            "6    7    yes       divorced           220k    no\n",
            "7    8     no         Single            85k   yes\n"
          ]
        }
      ]
    },
    {
      "cell_type": "code",
      "source": [
        "#2. Select row from index 4 to 8, and column 2 to 4.\n",
        "\n",
        "rows_4_to_8_cols_2_to_4 = df.iloc[4:9, 2:5]\n",
        "print(rows_4_to_8_cols_2_to_4)\n",
        "\n"
      ],
      "metadata": {
        "colab": {
          "base_uri": "https://localhost:8080/"
        },
        "id": "bwkRipNkjs8i",
        "outputId": "9a2d2fdf-3747-4d46-b9ff-4e841b0088a4"
      },
      "execution_count": null,
      "outputs": [
        {
          "output_type": "stream",
          "name": "stdout",
          "text": [
            "  marital status taxable income cheat\n",
            "4       divorced            95k   yes\n",
            "5        Married            60k    no\n",
            "6       divorced           220k    no\n",
            "7         Single            85k   yes\n",
            "8        Married            75k    no\n"
          ]
        }
      ]
    },
    {
      "cell_type": "code",
      "source": [
        "#3. Select all rows with column index 1 to 3 (include index 3 during selection).\n",
        "rows_all_cols_1_to_3 = df.iloc[:, 1:4]\n",
        "print(rows_all_cols_1_to_3)\n"
      ],
      "metadata": {
        "colab": {
          "base_uri": "https://localhost:8080/"
        },
        "id": "f4rG_Szljwvg",
        "outputId": "78f63a21-4167-4517-bca9-4b7751c5be11"
      },
      "execution_count": null,
      "outputs": [
        {
          "output_type": "stream",
          "name": "stdout",
          "text": [
            "  refund marital status taxable income\n",
            "0    yes         Single           125k\n",
            "1     no        Married           100k\n",
            "2     no         Single            70k\n",
            "3    yes        Married           120k\n",
            "4     no       divorced            95k\n",
            "5     no        Married            60k\n",
            "6    yes       divorced           220k\n",
            "7     no         Single            85k\n",
            "8     no        Married            75k\n",
            "9     no         Single            90k\n"
          ]
        }
      ]
    },
    {
      "cell_type": "code",
      "source": [
        "import zipfile\n",
        "import os\n",
        "\n",
        "# Specify the zip file and extraction directory\n",
        "zip_file_path = r'\"C:\\Users\\hp\\Downloads\\archive.zip\"'\n",
        "extraction_path = r'\"C:\\Users\\hp\\Downloads\\archive (1).zip\"'\n",
        "\n",
        "# Extract the files in the zip file\n",
        "with zipfile.ZipFile(zip_file_path, 'r') as zip_ref:\n",
        "    zip_ref.extractall(extraction_path)\n",
        "\n",
        "# After extraction, list the files in the extraction path\n",
        "extracted_files = os.listdir(extraction_path)\n",
        "print(\"Extracted files:\", extracted_files)\n",
        "\n",
        "# Assuming the extracted file is 'iris.csv', load it\n",
        "csv_file_path = os.path.join(extraction_path, r'C:\\Users\\hp\\Downloads\\archive (1)\\Iris.csv')  # Adjust if the CSV name is different\n",
        "df = pd.read_csv(csv_file_path)\n",
        "\n",
        "# Display the first 5 rows\n",
        "print(os.path.abspath('C:\\\\Users\\\\hp\\\\Downloads\\\\archive (1).zip'))\n",
        "\n"
      ],
      "metadata": {
        "id": "Ewcnytj-sKtp"
      },
      "execution_count": null,
      "outputs": []
    },
    {
      "cell_type": "code",
      "source": [
        "import pandas as pd\n",
        "\n",
        "# Load the dataset (replace with the correct path to your csv file)\n",
        "df = pd.read_csv('path/to/your/iris.csv')  # Replace with your actual file path\n",
        "\n",
        "# Display the original DataFrame (optional)\n",
        "print(\"Original DataFrame:\")\n",
        "print(df.head())\n",
        "\n",
        "# Delete row 4 (index 3) using drop\n",
        "df = df.drop(3, axis=0)  # axis=0 indicates row operation\n",
        "\n",
        "# Delete column 3 (index 2) using drop\n",
        "df = df.drop(df.columns[2], axis=1)  # axis=1 indicates column operation\n",
        "\n",
        "# Display the result after deletion\n",
        "print(\"\\nDataFrame after deleting row 4 and column 3:\")\n",
        "print(df.head())\n"
      ],
      "metadata": {
        "id": "B63lKIzOtLhU"
      },
      "execution_count": null,
      "outputs": []
    },
    {
      "cell_type": "markdown",
      "source": [
        "Q.6 Create a sample dataset (employees.csv) containing information about employees in\n",
        "a company.\n",
        "Employee_ID Name Department Age Salary Years_of_Experience Joining_Date Gender Bonus Rating\n",
        "101 Alice HR 29 50000 4 2020-03-15 Female 5000 4.5\n",
        "102 Bob IT 34 70000 8 2017-07-19 Male 7000 4.0\n",
        "103 Charlie IT 41 65000 10 2013-06-01 Male 6000 3.8\n",
        "104 Diana Marketing 28 55000 3 2021-02-10 Female 4500 4.7\n",
        "105 Edward Sales 38 60000 12 2010-11-25 Male 5000 3.5\n",
        "WAP to determine the following using dataset in Q6:\n",
        "a) Shape (number of rows and columns) of the DataFrame.\n",
        "b) Summary of the DataFrame that includes the data types and non-null counts for\n",
        "each column.\n",
        "c) Generate descriptive statistics.\n",
        "d) Display the first 5 rows and last 3 rows of the dataset.\n",
        "e) Calculate the following statistics from the dataset:\n",
        "i. The average salary of employees.\n",
        "ii. The total bonus paid to all employees.\n",
        "iii. The youngest employee's age.\n",
        "iv. The highest performance rating.\n",
        "f) Sort the DataFrame by the Salary column in descending order.\n",
        "g) Add a new column that categorizes employees based on their performance rating:\n",
        "i. Excellent for ratings >= 4.5\n",
        "ii. Good for ratings >= 4.0 but < 4.5\n",
        "iii. Average for ratings < 4.0\n",
        "h) Identify missing values in the DataFrame.\n",
        "i) Rename the Employee_ID column to ID.\n",
        "j) Find all employees who:\n",
        "i. Have more than 5 years of experience.\n",
        "ii. Belong to the IT department.\n",
        "k) Modify the dataset by adding a new column, Tax, which deducts 10% of the\n",
        "Salary.\n",
        "l) Save the modified DataFrame (with added columns) to a new CSV file"
      ],
      "metadata": {
        "id": "hgU2OP52ps_7"
      }
    },
    {
      "cell_type": "code",
      "source": [
        "import pandas as pd\n",
        "\n",
        "# Create a DataFrame for the sample dataset\n",
        "data = {\n",
        "    'Employee_ID': [101, 102, 103, 104, 105],\n",
        "    'Name': ['Alice', 'Bob', 'Charlie', 'Diana', 'Edward'],\n",
        "    'Department': ['HR', 'IT', 'IT', 'Marketing', 'Sales'],\n",
        "    'Age': [29, 34, 41, 28, 38],\n",
        "    'Salary': [50000, 70000, 65000, 55000, 60000],\n",
        "    'Years_of_Experience': [4, 8, 10, 3, 12],\n",
        "    'Joining_Date': ['2020-03-15', '2017-07-19', '2013-06-01', '2021-02-10', '2010-11-25'],\n",
        "    'Gender': ['Female', 'Male', 'Male', 'Female', 'Male'],\n",
        "    'Bonus': [5000, 7000, 6000, 4500, 5000],\n",
        "    'Rating': [4.5, 4.0, 3.8, 4.7, 3.5]\n",
        "}\n",
        "\n",
        "# Convert to DataFrame\n",
        "df = pd.DataFrame(data)\n",
        "\n",
        "# Save the DataFrame to a CSV file\n",
        "df.to_csv('employees.csv', index=False)\n",
        "\n",
        "# Display the DataFrame\n",
        "print(df)\n"
      ],
      "metadata": {
        "colab": {
          "base_uri": "https://localhost:8080/"
        },
        "id": "qR-e_NAqpvH2",
        "outputId": "d3c7ce59-87dd-463d-b425-e234c6039753"
      },
      "execution_count": null,
      "outputs": [
        {
          "output_type": "stream",
          "name": "stdout",
          "text": [
            "   Employee_ID     Name Department  Age  Salary  Years_of_Experience  \\\n",
            "0          101    Alice         HR   29   50000                    4   \n",
            "1          102      Bob         IT   34   70000                    8   \n",
            "2          103  Charlie         IT   41   65000                   10   \n",
            "3          104    Diana  Marketing   28   55000                    3   \n",
            "4          105   Edward      Sales   38   60000                   12   \n",
            "\n",
            "  Joining_Date  Gender  Bonus  Rating  \n",
            "0   2020-03-15  Female   5000     4.5  \n",
            "1   2017-07-19    Male   7000     4.0  \n",
            "2   2013-06-01    Male   6000     3.8  \n",
            "3   2021-02-10  Female   4500     4.7  \n",
            "4   2010-11-25    Male   5000     3.5  \n"
          ]
        }
      ]
    },
    {
      "cell_type": "code",
      "source": [
        "# Load the dataset\n",
        "df = pd.read_csv('employees.csv')\n",
        "\n",
        "# a) Shape (number of rows and columns) of the DataFrame\n",
        "shape = df.shape\n",
        "print(\"Shape of the DataFrame:\", shape)\n",
        "\n",
        "# b) Summary of the DataFrame that includes the data types and non-null counts for each column\n",
        "summary = df.info()\n",
        "print(\"\\nSummary of the DataFrame:\\n\", summary)\n",
        "\n",
        "# c) Generate descriptive statistics\n",
        "descriptive_stats = df.describe()\n",
        "print(\"\\nDescriptive Statistics:\\n\", descriptive_stats)\n",
        "\n",
        "# d) Display the first 5 rows and last 3 rows of the dataset\n",
        "first_5_rows = df.head(5)\n",
        "last_3_rows = df.tail(3)\n",
        "print(\"\\nFirst 5 Rows:\\n\", first_5_rows)\n",
        "print(\"\\nLast 3 Rows:\\n\", last_3_rows)\n",
        "\n",
        "# e) Calculate the following statistics:\n",
        "# i. The average salary of employees\n",
        "avg_salary = df['Salary'].mean()\n",
        "print(\"\\nAverage Salary of Employees:\", avg_salary)\n",
        "\n",
        "# ii. The total bonus paid to all employees\n",
        "total_bonus = df['Bonus'].sum()\n",
        "print(\"Total Bonus Paid to All Employees:\", total_bonus)\n",
        "\n",
        "# iii. The youngest employee's age\n",
        "youngest_age = df['Age'].min()\n",
        "print(\"The Youngest Employee's Age:\", youngest_age)\n",
        "\n",
        "# iv. The highest performance rating\n",
        "highest_rating = df['Rating'].max()\n",
        "print(\"The Highest Performance Rating:\", highest_rating)\n",
        "\n",
        "# f) Sort the DataFrame by the Salary column in descending order\n",
        "sorted_df = df.sort_values(by='Salary', ascending=False)\n",
        "print(\"\\nSorted DataFrame by Salary (Descending):\\n\", sorted_df)\n",
        "\n",
        "# g) Add a new column that categorizes employees based on their performance rating:\n",
        "def categorize_performance(rating):\n",
        "    if rating >= 4.5:\n",
        "        return 'Excellent'\n",
        "    elif rating >= 4.0:\n",
        "        return 'Good'\n",
        "    else:\n",
        "        return 'Average'\n",
        "\n",
        "df['Performance_Category'] = df['Rating'].apply(categorize_performance)\n",
        "print(\"\\nDataFrame with Performance Category:\\n\", df)\n",
        "\n",
        "# h) Identify missing values in the DataFrame\n",
        "missing_values = df.isnull().sum()\n",
        "print(\"\\nMissing Values in the DataFrame:\\n\", missing_values)\n",
        "\n",
        "# i) Rename the Employee_ID column to ID\n",
        "df.rename(columns={'Employee_ID': 'ID'}, inplace=True)\n",
        "print(\"\\nDataFrame after renaming 'Employee_ID' to 'ID':\\n\", df)\n",
        "\n",
        "# j) Find all employees who:\n",
        "# i. Have more than 5 years of experience.\n",
        "experienced_employees = df[df['Years_of_Experience'] > 5]\n",
        "print(\"\\nEmployees with more than 5 years of experience:\\n\", experienced_employees)\n",
        "\n",
        "# ii. Belong to the IT department.\n",
        "it_employees = df[df['Department'] == 'IT']\n",
        "print(\"\\nEmployees in the IT Department:\\n\", it_employees)\n",
        "\n",
        "# k) Modify the dataset by adding a new column, Tax, which deducts 10% of the Salary\n",
        "df['Tax'] = df['Salary'] * 0.1\n",
        "print(\"\\nDataFrame with Tax Column:\\n\", df)\n",
        "\n",
        "# l) Save the modified DataFrame (with added columns) to a new CSV file\n",
        "df.to_csv('modified_employees.csv', index=False)\n",
        "print(\"\\nModified DataFrame saved to 'modified_employees.csv'\")\n"
      ],
      "metadata": {
        "colab": {
          "base_uri": "https://localhost:8080/"
        },
        "id": "rjz2hdemp2qi",
        "outputId": "bfc53d45-e9dd-4bb1-d9f9-466de8a526ff"
      },
      "execution_count": null,
      "outputs": [
        {
          "output_type": "stream",
          "name": "stdout",
          "text": [
            "Shape of the DataFrame: (5, 10)\n",
            "<class 'pandas.core.frame.DataFrame'>\n",
            "RangeIndex: 5 entries, 0 to 4\n",
            "Data columns (total 10 columns):\n",
            " #   Column               Non-Null Count  Dtype  \n",
            "---  ------               --------------  -----  \n",
            " 0   Employee_ID          5 non-null      int64  \n",
            " 1   Name                 5 non-null      object \n",
            " 2   Department           5 non-null      object \n",
            " 3   Age                  5 non-null      int64  \n",
            " 4   Salary               5 non-null      int64  \n",
            " 5   Years_of_Experience  5 non-null      int64  \n",
            " 6   Joining_Date         5 non-null      object \n",
            " 7   Gender               5 non-null      object \n",
            " 8   Bonus                5 non-null      int64  \n",
            " 9   Rating               5 non-null      float64\n",
            "dtypes: float64(1), int64(5), object(4)\n",
            "memory usage: 532.0+ bytes\n",
            "\n",
            "Summary of the DataFrame:\n",
            " None\n",
            "\n",
            "Descriptive Statistics:\n",
            "        Employee_ID        Age       Salary  Years_of_Experience   Bonus  \\\n",
            "count     5.000000   5.000000      5.00000             5.000000     5.0   \n",
            "mean    103.000000  34.000000  60000.00000             7.400000  5500.0   \n",
            "std       1.581139   5.612486   7905.69415             3.847077  1000.0   \n",
            "min     101.000000  28.000000  50000.00000             3.000000  4500.0   \n",
            "25%     102.000000  29.000000  55000.00000             4.000000  5000.0   \n",
            "50%     103.000000  34.000000  60000.00000             8.000000  5000.0   \n",
            "75%     104.000000  38.000000  65000.00000            10.000000  6000.0   \n",
            "max     105.000000  41.000000  70000.00000            12.000000  7000.0   \n",
            "\n",
            "         Rating  \n",
            "count  5.000000  \n",
            "mean   4.100000  \n",
            "std    0.494975  \n",
            "min    3.500000  \n",
            "25%    3.800000  \n",
            "50%    4.000000  \n",
            "75%    4.500000  \n",
            "max    4.700000  \n",
            "\n",
            "First 5 Rows:\n",
            "    Employee_ID     Name Department  Age  Salary  Years_of_Experience  \\\n",
            "0          101    Alice         HR   29   50000                    4   \n",
            "1          102      Bob         IT   34   70000                    8   \n",
            "2          103  Charlie         IT   41   65000                   10   \n",
            "3          104    Diana  Marketing   28   55000                    3   \n",
            "4          105   Edward      Sales   38   60000                   12   \n",
            "\n",
            "  Joining_Date  Gender  Bonus  Rating  \n",
            "0   2020-03-15  Female   5000     4.5  \n",
            "1   2017-07-19    Male   7000     4.0  \n",
            "2   2013-06-01    Male   6000     3.8  \n",
            "3   2021-02-10  Female   4500     4.7  \n",
            "4   2010-11-25    Male   5000     3.5  \n",
            "\n",
            "Last 3 Rows:\n",
            "    Employee_ID     Name Department  Age  Salary  Years_of_Experience  \\\n",
            "2          103  Charlie         IT   41   65000                   10   \n",
            "3          104    Diana  Marketing   28   55000                    3   \n",
            "4          105   Edward      Sales   38   60000                   12   \n",
            "\n",
            "  Joining_Date  Gender  Bonus  Rating  \n",
            "2   2013-06-01    Male   6000     3.8  \n",
            "3   2021-02-10  Female   4500     4.7  \n",
            "4   2010-11-25    Male   5000     3.5  \n",
            "\n",
            "Average Salary of Employees: 60000.0\n",
            "Total Bonus Paid to All Employees: 27500\n",
            "The Youngest Employee's Age: 28\n",
            "The Highest Performance Rating: 4.7\n",
            "\n",
            "Sorted DataFrame by Salary (Descending):\n",
            "    Employee_ID     Name Department  Age  Salary  Years_of_Experience  \\\n",
            "1          102      Bob         IT   34   70000                    8   \n",
            "2          103  Charlie         IT   41   65000                   10   \n",
            "4          105   Edward      Sales   38   60000                   12   \n",
            "3          104    Diana  Marketing   28   55000                    3   \n",
            "0          101    Alice         HR   29   50000                    4   \n",
            "\n",
            "  Joining_Date  Gender  Bonus  Rating  \n",
            "1   2017-07-19    Male   7000     4.0  \n",
            "2   2013-06-01    Male   6000     3.8  \n",
            "4   2010-11-25    Male   5000     3.5  \n",
            "3   2021-02-10  Female   4500     4.7  \n",
            "0   2020-03-15  Female   5000     4.5  \n",
            "\n",
            "DataFrame with Performance Category:\n",
            "    Employee_ID     Name Department  Age  Salary  Years_of_Experience  \\\n",
            "0          101    Alice         HR   29   50000                    4   \n",
            "1          102      Bob         IT   34   70000                    8   \n",
            "2          103  Charlie         IT   41   65000                   10   \n",
            "3          104    Diana  Marketing   28   55000                    3   \n",
            "4          105   Edward      Sales   38   60000                   12   \n",
            "\n",
            "  Joining_Date  Gender  Bonus  Rating Performance_Category  \n",
            "0   2020-03-15  Female   5000     4.5            Excellent  \n",
            "1   2017-07-19    Male   7000     4.0                 Good  \n",
            "2   2013-06-01    Male   6000     3.8              Average  \n",
            "3   2021-02-10  Female   4500     4.7            Excellent  \n",
            "4   2010-11-25    Male   5000     3.5              Average  \n",
            "\n",
            "Missing Values in the DataFrame:\n",
            " Employee_ID             0\n",
            "Name                    0\n",
            "Department              0\n",
            "Age                     0\n",
            "Salary                  0\n",
            "Years_of_Experience     0\n",
            "Joining_Date            0\n",
            "Gender                  0\n",
            "Bonus                   0\n",
            "Rating                  0\n",
            "Performance_Category    0\n",
            "dtype: int64\n",
            "\n",
            "DataFrame after renaming 'Employee_ID' to 'ID':\n",
            "     ID     Name Department  Age  Salary  Years_of_Experience Joining_Date  \\\n",
            "0  101    Alice         HR   29   50000                    4   2020-03-15   \n",
            "1  102      Bob         IT   34   70000                    8   2017-07-19   \n",
            "2  103  Charlie         IT   41   65000                   10   2013-06-01   \n",
            "3  104    Diana  Marketing   28   55000                    3   2021-02-10   \n",
            "4  105   Edward      Sales   38   60000                   12   2010-11-25   \n",
            "\n",
            "   Gender  Bonus  Rating Performance_Category  \n",
            "0  Female   5000     4.5            Excellent  \n",
            "1    Male   7000     4.0                 Good  \n",
            "2    Male   6000     3.8              Average  \n",
            "3  Female   4500     4.7            Excellent  \n",
            "4    Male   5000     3.5              Average  \n",
            "\n",
            "Employees with more than 5 years of experience:\n",
            "     ID     Name Department  Age  Salary  Years_of_Experience Joining_Date  \\\n",
            "1  102      Bob         IT   34   70000                    8   2017-07-19   \n",
            "2  103  Charlie         IT   41   65000                   10   2013-06-01   \n",
            "4  105   Edward      Sales   38   60000                   12   2010-11-25   \n",
            "\n",
            "  Gender  Bonus  Rating Performance_Category  \n",
            "1   Male   7000     4.0                 Good  \n",
            "2   Male   6000     3.8              Average  \n",
            "4   Male   5000     3.5              Average  \n",
            "\n",
            "Employees in the IT Department:\n",
            "     ID     Name Department  Age  Salary  Years_of_Experience Joining_Date  \\\n",
            "1  102      Bob         IT   34   70000                    8   2017-07-19   \n",
            "2  103  Charlie         IT   41   65000                   10   2013-06-01   \n",
            "\n",
            "  Gender  Bonus  Rating Performance_Category  \n",
            "1   Male   7000     4.0                 Good  \n",
            "2   Male   6000     3.8              Average  \n",
            "\n",
            "DataFrame with Tax Column:\n",
            "     ID     Name Department  Age  Salary  Years_of_Experience Joining_Date  \\\n",
            "0  101    Alice         HR   29   50000                    4   2020-03-15   \n",
            "1  102      Bob         IT   34   70000                    8   2017-07-19   \n",
            "2  103  Charlie         IT   41   65000                   10   2013-06-01   \n",
            "3  104    Diana  Marketing   28   55000                    3   2021-02-10   \n",
            "4  105   Edward      Sales   38   60000                   12   2010-11-25   \n",
            "\n",
            "   Gender  Bonus  Rating Performance_Category     Tax  \n",
            "0  Female   5000     4.5            Excellent  5000.0  \n",
            "1    Male   7000     4.0                 Good  7000.0  \n",
            "2    Male   6000     3.8              Average  6500.0  \n",
            "3  Female   4500     4.7            Excellent  5500.0  \n",
            "4    Male   5000     3.5              Average  6000.0  \n",
            "\n",
            "Modified DataFrame saved to 'modified_employees.csv'\n"
          ]
        }
      ]
    }
  ]
}